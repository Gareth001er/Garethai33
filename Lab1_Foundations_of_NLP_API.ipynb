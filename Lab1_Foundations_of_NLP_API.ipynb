{
  "cells": [
    {
      "cell_type": "markdown",
      "metadata": {
        "id": "view-in-github",
        "colab_type": "text"
      },
      "source": [
        "<a href=\"https://colab.research.google.com/github/Gareth001er/Garethai33/blob/main/Lab1_Foundations_of_NLP_API.ipynb\" target=\"_parent\"><img src=\"https://colab.research.google.com/assets/colab-badge.svg\" alt=\"Open In Colab\"/></a>"
      ]
    },
    {
      "cell_type": "markdown",
      "id": "2d5b477d",
      "metadata": {
        "id": "2d5b477d"
      },
      "source": [
        "# Lab 1: Foundations of NLP\n",
        "\n",
        "In this lab you will **choose one** API to fetch approximately 200 words of live text, then use that text for all tasks below.\n",
        "\n",
        "**TODO:** Pick your API from the list (see README/API docs), and implement the fetch in the first code cell."
      ]
    },
    {
      "cell_type": "code",
      "execution_count": 5,
      "id": "4d52fb40",
      "metadata": {
        "colab": {
          "base_uri": "https://localhost:8080/"
        },
        "id": "4d52fb40",
        "outputId": "223468b4-954f-4870-8b67-491ac5c9cb05"
      },
      "outputs": [
        {
          "output_type": "stream",
          "name": "stdout",
          "text": [
            "Miami is a coastal city in the U.S. state of Florida and the county seat of Miami-Dade County in South Florida. It is the core of the Miami metropolitan area, which, with a population of 6.14 million, is the second-largest metropolitan area in the Southeast after Atlanta, and the ninth-largest in the United States. With a population of 442,241 as of the 2020 census, Miami is the second-most populous city in Florida, after Jacksonville. Miami has the third-largest skyline in the U.S. with over 300 high-rises, 70 of which exceed 491 ft (150 m).\n"
          ]
        }
      ],
      "source": [
        "# TODO: Fetch ~200 words of text from your chosen API\n",
        "\n",
        "import requests\n",
        "\n",
        "resp = requests.get(\n",
        "    \"https://en.wikipedia.org/api/rest_v1/page/summary/Miami\"\n",
        ").json()\n",
        "text = resp[\"extract\"]\n",
        "print(text)\n"
      ]
    },
    {
      "cell_type": "markdown",
      "id": "3ace0325",
      "metadata": {
        "id": "3ace0325"
      },
      "source": [
        "## 1. Text Preprocessing (30 pts)\n",
        "\n",
        "- Use the `raw_text` variable you fetched.\n",
        "- Tokenize, lowercase, remove punctuation.\n",
        "- Remove stopwords.\n",
        "- Plot the top-10 most frequent tokens.\n",
        "\n",
        "**TODO:** Write your code below and commit after each sub-step."
      ]
    },
    {
      "cell_type": "code",
      "execution_count": 6,
      "id": "e0a08365",
      "metadata": {
        "colab": {
          "base_uri": "https://localhost:8080/"
        },
        "id": "e0a08365",
        "outputId": "4a8cd8ee-0885-422a-ac5e-2be58617e7e6"
      },
      "outputs": [
        {
          "output_type": "stream",
          "name": "stdout",
          "text": [
            "['miami', 'is', 'a', 'coastal', 'city', 'in', 'the', 'us', 'state', 'of', 'florida', 'and', 'the', 'county', 'seat', 'of', 'miamidade', 'county', 'in', 'south', 'florida', 'it', 'is', 'the', 'core', 'of', 'the', 'miami', 'metropolitan', 'area', 'which', 'with', 'a', 'population', 'of', '614', 'million', 'is', 'the', 'secondlargest', 'metropolitan', 'area', 'in', 'the', 'southeast', 'after', 'atlanta', 'and', 'the', 'ninthlargest', 'in', 'the', 'united', 'states', 'with', 'a', 'population', 'of', '442241', 'as', 'of', 'the', '2020', 'census', 'miami', 'is', 'the', 'secondmost', 'populous', 'city', 'in', 'florida', 'after', 'jacksonville', 'miami', 'has', 'the', 'thirdlargest', 'skyline', 'in', 'the', 'us', 'with', 'over', '300', 'highrises', '70', 'of', 'which', 'exceed', '491', 'ft', '150', 'm']\n"
          ]
        }
      ],
      "source": [
        "# TODO: Tokenize and clean raw_text\n",
        "\n",
        "import requests\n",
        "import string\n",
        "\n",
        "# Get summary text from Wikipedia API\n",
        "resp = requests.get(\n",
        "    \"https://en.wikipedia.org/api/rest_v1/page/summary/Miami\"\n",
        ").json()\n",
        "text = resp[\"extract\"]\n",
        "\n",
        "# Lowercase the text\n",
        "text = text.lower()\n",
        "\n",
        "# Remove punctuation\n",
        "text = text.translate(str.maketrans(\"\", \"\", string.punctuation))\n",
        "\n",
        "# Tokenize (split into words)\n",
        "tokens = text.split()\n",
        "\n",
        "# Print the result\n",
        "print(tokens)\n",
        "\n"
      ]
    },
    {
      "cell_type": "code",
      "execution_count": 7,
      "id": "72aad684",
      "metadata": {
        "colab": {
          "base_uri": "https://localhost:8080/"
        },
        "id": "72aad684",
        "outputId": "f3936052-58b3-4611-bbf6-4b866d2907df"
      },
      "outputs": [
        {
          "output_type": "stream",
          "name": "stdout",
          "text": [
            "['miami', 'coastal', 'city', 'us', 'state', 'florida', 'county', 'seat', 'miamidade', 'county', 'south', 'florida', 'core', 'miami', 'metropolitan', 'area', 'population', '614', 'million', 'secondlargest', 'metropolitan', 'area', 'southeast', 'atlanta', 'ninthlargest', 'united', 'states', 'population', '442241', '2020', 'census', 'miami', 'secondmost', 'populous', 'city', 'florida', 'jacksonville', 'miami', 'thirdlargest', 'skyline', 'us', '300', 'highrises', '70', 'exceed', '491', 'ft', '150']\n"
          ]
        },
        {
          "output_type": "stream",
          "name": "stderr",
          "text": [
            "[nltk_data] Downloading package stopwords to /root/nltk_data...\n",
            "[nltk_data]   Unzipping corpora/stopwords.zip.\n"
          ]
        }
      ],
      "source": [
        "# TODO: Remove stopwords\n",
        "import requests\n",
        "import string\n",
        "import nltk\n",
        "from nltk.corpus import stopwords\n",
        "\n",
        "# Download stopwords if not already downloaded\n",
        "nltk.download('stopwords')\n",
        "\n",
        "# Fetch summary from Wikipedia\n",
        "resp = requests.get(\"https://en.wikipedia.org/api/rest_v1/page/summary/Miami\").json()\n",
        "text = resp[\"extract\"]\n",
        "\n",
        "# Preprocess: lowercase, remove punctuation\n",
        "text = text.lower()\n",
        "text = text.translate(str.maketrans('', '', string.punctuation))\n",
        "\n",
        "# Tokenize\n",
        "tokens = text.split()\n",
        "\n",
        "# Remove stopwords\n",
        "stop_words = set(stopwords.words('english'))\n",
        "filtered_tokens = [word for word in tokens if word not in stop_words]\n",
        "\n",
        "print(filtered_tokens)\n"
      ]
    },
    {
      "cell_type": "code",
      "execution_count": null,
      "id": "719f9ddf",
      "metadata": {
        "id": "719f9ddf"
      },
      "outputs": [],
      "source": [
        "# TODO: Plot frequent tokens\n"
      ]
    },
    {
      "cell_type": "markdown",
      "id": "c6afbb41",
      "metadata": {
        "id": "c6afbb41"
      },
      "source": [
        "## 2. Synonym Generation (30 pts)\n",
        "\n",
        "- Pick 5 tokens from your preprocessed results.\n",
        "- Manually list 2-3 synonyms each.\n",
        "- Use Google AI Studio Text API to generate synonyms for each.\n",
        "\n",
        "**TODO:** Complete the code and reflections."
      ]
    },
    {
      "cell_type": "code",
      "execution_count": null,
      "id": "cbe374bd",
      "metadata": {
        "id": "cbe374bd"
      },
      "outputs": [],
      "source": [
        "# TODO: Manually list synonyms\n"
      ]
    },
    {
      "cell_type": "code",
      "execution_count": null,
      "id": "67852b47",
      "metadata": {
        "id": "67852b47"
      },
      "outputs": [],
      "source": [
        "# TODO: Call Google AI Studio Text API for synonyms\n"
      ]
    },
    {
      "cell_type": "markdown",
      "id": "a7ee1a81",
      "metadata": {
        "id": "a7ee1a81"
      },
      "source": [
        "## 3. Part-of-Speech Annotation (20 pts)\n",
        "\n",
        "- Select one sentence from `raw_text`.\n",
        "- Manually tag each word with its POS.\n",
        "- Call the AI Studio syntax endpoint and compare.\n",
        "\n",
        "**TODO:** Implement tagging and comparison."
      ]
    },
    {
      "cell_type": "code",
      "execution_count": null,
      "id": "5b2cab55",
      "metadata": {
        "id": "5b2cab55"
      },
      "outputs": [],
      "source": [
        "# TODO: Manual POS tagging\n"
      ]
    },
    {
      "cell_type": "code",
      "execution_count": null,
      "id": "b5b000fc",
      "metadata": {
        "id": "b5b000fc"
      },
      "outputs": [],
      "source": [
        "# TODO: Call AI Studio syntax endpoint\n"
      ]
    },
    {
      "cell_type": "markdown",
      "id": "9bd782a6",
      "metadata": {
        "id": "9bd782a6"
      },
      "source": [
        "## 4. Thinking & Reflection (20 pts)\n",
        "\n",
        "Answer in Markdown:\n",
        "1. Which preprocessing step had the biggest impact?\n",
        "2. What surprised you about the AI outputs?\n",
        "3. How would you integrate manual rules and AI calls in a production pipeline?"
      ]
    }
  ],
  "metadata": {
    "colab": {
      "provenance": [],
      "include_colab_link": true
    },
    "language_info": {
      "name": "python"
    },
    "kernelspec": {
      "name": "python3",
      "display_name": "Python 3"
    }
  },
  "nbformat": 4,
  "nbformat_minor": 5
}